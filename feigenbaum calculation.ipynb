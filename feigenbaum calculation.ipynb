{
 "cells": [
  {
   "cell_type": "code",
   "execution_count": 51,
   "id": "75864d5c",
   "metadata": {},
   "outputs": [],
   "source": [
    "import numpy as np\n",
    "import sympy as sym\n",
    "import pandas as pd"
   ]
  },
  {
   "cell_type": "code",
   "execution_count": 2,
   "id": "f9a39716",
   "metadata": {},
   "outputs": [],
   "source": [
    "def f_a(x, a):\n",
    "    return a - x ** 2 "
   ]
  },
  {
   "cell_type": "code",
   "execution_count": 25,
   "id": "00d6146e",
   "metadata": {},
   "outputs": [],
   "source": [
    "def compute_delta(ai : float, ai1 : float, ai2 : float) -> float:\n",
    "    return (ai1 - ai2)/(ai - ai1)"
   ]
  },
  {
   "cell_type": "code",
   "execution_count": 90,
   "id": "4fb36ef5",
   "metadata": {
    "scrolled": true
   },
   "outputs": [
    {
     "data": {
      "text/latex": [
       "$\\displaystyle - x^{4} + 2 x^{3} - x^{2} + x$"
      ],
      "text/plain": [
       "-x**4 + 2*x**3 - x**2 + x"
      ]
     },
     "execution_count": 90,
     "metadata": {},
     "output_type": "execute_result"
    }
   ],
   "source": [
    "x = sym.Symbol('x', real = True)\n",
    "def generate_b(k : int) -> sym.Function:\n",
    "    b_k = sym.sympify(0)\n",
    "    for i in range(1, k + 1):\n",
    "        b_k = sym.expand(sym.sympify(x - (b_k)**2))\n",
    "    \n",
    "    return b_k\n",
    "\n",
    "assert generate_b(0) is sym.sympify(0)\n",
    "assert generate_b(1) is sym.sympify(x)\n",
    "generate_b(3)"
   ]
  },
  {
   "cell_type": "code",
   "execution_count": 91,
   "id": "54c0e3e6",
   "metadata": {},
   "outputs": [
    {
     "ename": "TypeError",
     "evalue": "cannot determine truth value of Relational",
     "output_type": "error",
     "traceback": [
      "\u001b[1;31m---------------------------------------------------------------------------\u001b[0m",
      "\u001b[1;31mTypeError\u001b[0m                                 Traceback (most recent call last)",
      "\u001b[1;32m~\\AppData\\Local\\Temp/ipykernel_25304/1254958743.py\u001b[0m in \u001b[0;36m<module>\u001b[1;34m\u001b[0m\n\u001b[0;32m     15\u001b[0m     \u001b[1;32mreturn\u001b[0m \u001b[1;32mNone\u001b[0m\u001b[1;33m\u001b[0m\u001b[1;33m\u001b[0m\u001b[0m\n\u001b[0;32m     16\u001b[0m \u001b[1;33m\u001b[0m\u001b[0m\n\u001b[1;32m---> 17\u001b[1;33m \u001b[1;32massert\u001b[0m \u001b[0mabs\u001b[0m\u001b[1;33m(\u001b[0m\u001b[0mnewton\u001b[0m\u001b[1;33m(\u001b[0m\u001b[0msym\u001b[0m\u001b[1;33m.\u001b[0m\u001b[0msympify\u001b[0m\u001b[1;33m(\u001b[0m\u001b[1;34m'(x-1)*(x-1)'\u001b[0m\u001b[1;33m)\u001b[0m\u001b[1;33m,\u001b[0m \u001b[1;36m0.01\u001b[0m\u001b[1;33m,\u001b[0m \u001b[1;36m1e-8\u001b[0m\u001b[1;33m,\u001b[0m \u001b[1;36m25\u001b[0m\u001b[1;33m)\u001b[0m \u001b[1;33m-\u001b[0m \u001b[1;36m1\u001b[0m\u001b[1;33m)\u001b[0m \u001b[1;33m<=\u001b[0m \u001b[1;36m0.0001\u001b[0m\u001b[1;33m\u001b[0m\u001b[1;33m\u001b[0m\u001b[0m\n\u001b[0m",
      "\u001b[1;32m~\\AppData\\Local\\Temp/ipykernel_25304/1254958743.py\u001b[0m in \u001b[0;36mnewton\u001b[1;34m(f, x0, epsilon, max_iter)\u001b[0m\n\u001b[0;32m      3\u001b[0m     \u001b[0mdf\u001b[0m \u001b[1;33m=\u001b[0m \u001b[0msym\u001b[0m\u001b[1;33m.\u001b[0m\u001b[0mdiff\u001b[0m\u001b[1;33m(\u001b[0m\u001b[0mf\u001b[0m\u001b[1;33m)\u001b[0m\u001b[1;33m\u001b[0m\u001b[1;33m\u001b[0m\u001b[0m\n\u001b[0;32m      4\u001b[0m     \u001b[1;32mfor\u001b[0m \u001b[0mn\u001b[0m \u001b[1;32min\u001b[0m \u001b[0mrange\u001b[0m\u001b[1;33m(\u001b[0m\u001b[1;36m0\u001b[0m\u001b[1;33m,\u001b[0m \u001b[0mmax_iter\u001b[0m\u001b[1;33m)\u001b[0m\u001b[1;33m:\u001b[0m\u001b[1;33m\u001b[0m\u001b[1;33m\u001b[0m\u001b[0m\n\u001b[1;32m----> 5\u001b[1;33m         \u001b[1;32mif\u001b[0m \u001b[0mabs\u001b[0m\u001b[1;33m(\u001b[0m\u001b[0mf\u001b[0m\u001b[1;33m.\u001b[0m\u001b[0msubs\u001b[0m\u001b[1;33m(\u001b[0m\u001b[0mx\u001b[0m\u001b[1;33m,\u001b[0m \u001b[0mxn\u001b[0m\u001b[1;33m)\u001b[0m\u001b[1;33m)\u001b[0m \u001b[1;33m<\u001b[0m \u001b[0mepsilon\u001b[0m\u001b[1;33m:\u001b[0m\u001b[1;33m\u001b[0m\u001b[1;33m\u001b[0m\u001b[0m\n\u001b[0m\u001b[0;32m      6\u001b[0m             \u001b[0mprint\u001b[0m\u001b[1;33m(\u001b[0m\u001b[1;34m'Found solution after'\u001b[0m\u001b[1;33m,\u001b[0m\u001b[0mn\u001b[0m\u001b[1;33m,\u001b[0m\u001b[1;34m'iterations.'\u001b[0m\u001b[1;33m)\u001b[0m\u001b[1;33m\u001b[0m\u001b[1;33m\u001b[0m\u001b[0m\n\u001b[0;32m      7\u001b[0m             \u001b[1;32mreturn\u001b[0m \u001b[0mxn\u001b[0m\u001b[1;33m\u001b[0m\u001b[1;33m\u001b[0m\u001b[0m\n",
      "\u001b[1;32m~\\miniconda3\\lib\\site-packages\\sympy\\core\\relational.py\u001b[0m in \u001b[0;36m__bool__\u001b[1;34m(self)\u001b[0m\n\u001b[0;32m    396\u001b[0m \u001b[1;33m\u001b[0m\u001b[0m\n\u001b[0;32m    397\u001b[0m     \u001b[1;32mdef\u001b[0m \u001b[0m__bool__\u001b[0m\u001b[1;33m(\u001b[0m\u001b[0mself\u001b[0m\u001b[1;33m)\u001b[0m\u001b[1;33m:\u001b[0m\u001b[1;33m\u001b[0m\u001b[1;33m\u001b[0m\u001b[0m\n\u001b[1;32m--> 398\u001b[1;33m         \u001b[1;32mraise\u001b[0m \u001b[0mTypeError\u001b[0m\u001b[1;33m(\u001b[0m\u001b[1;34m\"cannot determine truth value of Relational\"\u001b[0m\u001b[1;33m)\u001b[0m\u001b[1;33m\u001b[0m\u001b[1;33m\u001b[0m\u001b[0m\n\u001b[0m\u001b[0;32m    399\u001b[0m \u001b[1;33m\u001b[0m\u001b[0m\n\u001b[0;32m    400\u001b[0m     \u001b[1;32mdef\u001b[0m \u001b[0m_eval_as_set\u001b[0m\u001b[1;33m(\u001b[0m\u001b[0mself\u001b[0m\u001b[1;33m)\u001b[0m\u001b[1;33m:\u001b[0m\u001b[1;33m\u001b[0m\u001b[1;33m\u001b[0m\u001b[0m\n",
      "\u001b[1;31mTypeError\u001b[0m: cannot determine truth value of Relational"
     ]
    }
   ],
   "source": [
    "def newton(f : sym.Function, x0 : float, epsilon : float, max_iter : int) -> float:\n",
    "    xn : float = x0\n",
    "    df = sym.diff(f)\n",
    "    for n in range(0, max_iter):\n",
    "        if abs(f.subs(x, xn)) < epsilon:\n",
    "            print('Found solution after',n,'iterations.')\n",
    "            return xn\n",
    "\n",
    "        if df.subs(x, xn) == 0:\n",
    "            print('Zero derivative. No solution found.')\n",
    "            return None\n",
    "        xn = xn - f.subs(x, xn)/df.subs(x, xn)\n",
    "    \n",
    "    print('Exceeded maximum iterations. No solution found.')\n",
    "    return None\n",
    "    \n",
    "assert abs(newton(sym.sympify('(x-1)*(x-1)'), 0.01, 1e-8, 25) - 1) <= 0.0001"
   ]
  },
  {
   "cell_type": "code",
   "execution_count": 96,
   "id": "ce915a8a",
   "metadata": {},
   "outputs": [],
   "source": [
    "\n",
    "a_0 = 0\n",
    "a_1 = 1\n",
    "delta_1 = 3.2\n",
    "\n",
    "def execute_feigenbaum(max_iter : int):\n",
    "    dp_a = [a_0, a_1]\n",
    "    dp_delta = [0, delta_1]\n",
    "    for i in range(2, max_iter + 1):\n",
    "        a_i_1 = dp_a[i-1]\n",
    "        a_i_2 = dp_a[i-2]\n",
    "        guess = a_i_1 + (a_i_1 - a_i_2)/dp_delta[i - 1]\n",
    "        b = generate_b(2 ** i)\n",
    "        zeroes = [sym.N(solution) for solution in sym.solve(b, x)]\n",
    "        #zero = newton(b, guess, 1e-8, 1000000000)\n",
    "        print(\"Zero\", zeroes)\n",
    "        mn = 5\n",
    "        mnzero = 0\n",
    "        for zero in zeroes:\n",
    "            if abs(zero - guess) < mn:\n",
    "                mn = abs(zero - guess)\n",
    "                mnzero = zero\n",
    "        print(mnzero)\n",
    "        dp_a.append(mnzero)\n",
    "        delta_i = compute_delta(dp_a[i], dp_a[i-1], dp_a[i-2])\n",
    "        dp_delta.append(delta_i)\n",
    "    return dp_a, dp_delta"
   ]
  },
  {
   "cell_type": "code",
   "execution_count": null,
   "id": "42bcb1b2",
   "metadata": {},
   "outputs": [
    {
     "name": "stdout",
     "output_type": "stream",
     "text": [
      "Zero [0, 1.00000000000000, 1.31070264133683, 1.94079980652948]\n",
      "1.31070264133683\n"
     ]
    }
   ],
   "source": [
    "execute_feigenbaum(3)"
   ]
  },
  {
   "cell_type": "code",
   "execution_count": 11,
   "id": "a9938a80",
   "metadata": {},
   "outputs": [
    {
     "data": {
      "text/latex": [
       "$\\displaystyle 4$"
      ],
      "text/plain": [
       "4"
      ]
     },
     "execution_count": 11,
     "metadata": {},
     "output_type": "execute_result"
    }
   ],
   "source": [
    "# superstable 2^n cycles occur at zeroes of b_2n\n",
    "\n",
    "# locate zeroes of the polynomials b_k\n",
    "\n",
    "sym.diff(x**2, x).subs(x, 2)"
   ]
  },
  {
   "cell_type": "code",
   "execution_count": null,
   "id": "522c0b29",
   "metadata": {},
   "outputs": [],
   "source": []
  }
 ],
 "metadata": {
  "kernelspec": {
   "display_name": "Python 3 (ipykernel)",
   "language": "python",
   "name": "python3"
  },
  "language_info": {
   "codemirror_mode": {
    "name": "ipython",
    "version": 3
   },
   "file_extension": ".py",
   "mimetype": "text/x-python",
   "name": "python",
   "nbconvert_exporter": "python",
   "pygments_lexer": "ipython3",
   "version": "3.9.6"
  }
 },
 "nbformat": 4,
 "nbformat_minor": 5
}
