{
 "cells": [
  {
   "cell_type": "code",
   "execution_count": 2,
   "id": "75864d5c",
   "metadata": {},
   "outputs": [],
   "source": [
    "import numpy as np\n",
    "import sympy as sym"
   ]
  },
  {
   "cell_type": "code",
   "execution_count": 2,
   "id": "f9a39716",
   "metadata": {},
   "outputs": [],
   "source": [
    "def f_a(x, a):\n",
    "    return a - x ** 2 "
   ]
  },
  {
   "cell_type": "code",
   "execution_count": 25,
   "id": "fef03f02",
   "metadata": {},
   "outputs": [],
   "source": [
    "def compute_delta(ai : float, ai1 : float, ai2 : float) -> float:\n",
    "    return (ai1 - ai2)/(ai - ai1)"
   ]
  },
  {
   "cell_type": "code",
   "execution_count": 12,
   "id": "f3971473",
   "metadata": {
    "scrolled": true
   },
   "outputs": [
    {
     "ename": "IndentationError",
     "evalue": "expected an indented block (Temp/ipykernel_25304/2904277415.py, line 1)",
     "output_type": "error",
     "traceback": [
      "\u001b[1;36m  File \u001b[1;32m\"C:\\Users\\Alan\\AppData\\Local\\Temp/ipykernel_25304/2904277415.py\"\u001b[1;36m, line \u001b[1;32m1\u001b[0m\n\u001b[1;33m    def generate_b(k):\u001b[0m\n\u001b[1;37m                      ^\u001b[0m\n\u001b[1;31mIndentationError\u001b[0m\u001b[1;31m:\u001b[0m expected an indented block\n"
     ]
    }
   ],
   "source": [
    "def generate_b(k):\n",
    "    "
   ]
  },
  {
   "cell_type": "code",
   "execution_count": 27,
   "id": "54c0e3e6",
   "metadata": {},
   "outputs": [
    {
     "name": "stdout",
     "output_type": "stream",
     "text": [
      "Found solution after 14 iterations.\n"
     ]
    }
   ],
   "source": [
    "x = sym.Symbol('x')\n",
    "def newton(f : sym.Function, x0 : float, epsilon : float, max_iter : int) -> float:\n",
    "    xn : float = x0\n",
    "    df = sym.diff(f)\n",
    "    for n in range(0, max_iter):\n",
    "        if abs(f.subs(x, xn)) < epsilon:\n",
    "            print('Found solution after',n,'iterations.')\n",
    "            return xn\n",
    "\n",
    "        if df.subs(x, xn) == 0:\n",
    "            print('Zero derivative. No solution found.')\n",
    "            return None\n",
    "        xn = xn - f.subs(x, xn)/df.subs(x, xn)\n",
    "    \n",
    "    print('Exceeded maximum iterations. No solution found.')\n",
    "    return None\n",
    "    \n",
    "assert abs(newton(sym.sympify('(x-1)*(x-1)'), 0.01, 1e-8, 25) - 1) <= 0.0001"
   ]
  },
  {
   "cell_type": "code",
   "execution_count": null,
   "id": "ce915a8a",
   "metadata": {},
   "outputs": [],
   "source": [
    "dp_a = []\n",
    "dp_delta = []\n",
    "# for i >= 2\n",
    "# somehow modify this, this produces what to plug in as the initial value into next newtons\n",
    "a_i_initial = dp_a[i - 1] + (dp_a[i - 1] - dp_a[i - 2])/delta[i - 1]\n",
    "# for j >= 0\n",
    "a_i_next = a_i"
   ]
  },
  {
   "cell_type": "code",
   "execution_count": 11,
   "id": "a9938a80",
   "metadata": {},
   "outputs": [
    {
     "data": {
      "text/latex": [
       "$\\displaystyle 4$"
      ],
      "text/plain": [
       "4"
      ]
     },
     "execution_count": 11,
     "metadata": {},
     "output_type": "execute_result"
    }
   ],
   "source": [
    "# superstable 2^n cycles occur at zeroes of b_2n\n",
    "\n",
    "# locate zeroes of the polynomials b_k\n",
    "\n",
    "sym.diff(x**2, x).subs(x, 2)"
   ]
  },
  {
   "cell_type": "code",
   "execution_count": null,
   "id": "93f906c5",
   "metadata": {},
   "outputs": [],
   "source": []
  }
 ],
 "metadata": {
  "kernelspec": {
   "display_name": "Python 3 (ipykernel)",
   "language": "python",
   "name": "python3"
  },
  "language_info": {
   "codemirror_mode": {
    "name": "ipython",
    "version": 3
   },
   "file_extension": ".py",
   "mimetype": "text/x-python",
   "name": "python",
   "nbconvert_exporter": "python",
   "pygments_lexer": "ipython3",
   "version": "3.9.6"
  }
 },
 "nbformat": 4,
 "nbformat_minor": 5
}
